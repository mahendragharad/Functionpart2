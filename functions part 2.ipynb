{
  "nbformat": 4,
  "nbformat_minor": 0,
  "metadata": {
    "colab": {
      "provenance": []
    },
    "kernelspec": {
      "name": "python3",
      "display_name": "Python 3"
    },
    "language_info": {
      "name": "python"
    }
  },
  "cells": [
    {
      "cell_type": "code",
      "execution_count": 14,
      "metadata": {
        "colab": {
          "base_uri": "https://localhost:8080/"
        },
        "id": "pHBRO4r6CIW3",
        "outputId": "8585e62f-393b-46a1-abe5-bccacaf4f4d4"
      },
      "outputs": [
        {
          "output_type": "stream",
          "name": "stdout",
          "text": [
            "7 Index NO. -1\n",
            "6 Index NO. -2\n",
            "5 Index NO. -3\n",
            "4 Index NO. -4\n",
            "3 Index NO. -5\n",
            "2 Index NO. -6\n",
            "1 Index NO. -7\n"
          ]
        }
      ],
      "source": [
        "A = [1,2,3,4,5,6,7]\n",
        "\n",
        "for i in A  :\n",
        "  print( A[-i] ,\"Index NO.\", -i)"
      ]
    },
    {
      "cell_type": "code",
      "source": [
        "def listed() :\n",
        "  A = list() \n",
        "  N = int(input(\"Enter the range : \"))\n",
        "  for i in range (N) : \n",
        "    values = input(\"Enter the values : \")\n",
        "    A.append(values)\n",
        "  return A "
      ],
      "metadata": {
        "id": "_ClV5zcSCP9K"
      },
      "execution_count": 26,
      "outputs": []
    },
    {
      "cell_type": "code",
      "source": [
        "listed()"
      ],
      "metadata": {
        "colab": {
          "base_uri": "https://localhost:8080/"
        },
        "id": "8Zzz4gqGFpd6",
        "outputId": "58a22b8d-aa48-470c-8174-3d0b609139e0"
      },
      "execution_count": 37,
      "outputs": [
        {
          "name": "stdout",
          "output_type": "stream",
          "text": [
            "Enter the range : 3\n",
            "Enter the values : mahendra\n",
            "Enter the values : gharad\n",
            "Enter the values : patil\n"
          ]
        },
        {
          "output_type": "execute_result",
          "data": {
            "text/plain": [
              "['mahendra', 'gharad', 'patil']"
            ]
          },
          "metadata": {},
          "execution_count": 37
        }
      ]
    },
    {
      "cell_type": "markdown",
      "source": [
        "###**How to insert the element in the list**\n",
        "\n",
        "\n",
        "*   '*' by using asteric sign we can insert any type of value inside the list \n",
        "*   When we input any value using asteric sign it by default give us those values in the form of tuples.\n",
        "*   To make it as the list we have yo type convert those tuples as follows \n",
        "\n"
      ],
      "metadata": {
        "id": "qZxbbvFzN5gm"
      }
    },
    {
      "cell_type": "code",
      "source": [
        "def test4(*args) :\n",
        "  return args "
      ],
      "metadata": {
        "id": "rlUp53PZJw7h"
      },
      "execution_count": 27,
      "outputs": []
    },
    {
      "cell_type": "code",
      "source": [
        "type(test4(\"mahendra\",23,2323,\"mahendra\",\"gharad\",3323,\"patil\"))"
      ],
      "metadata": {
        "colab": {
          "base_uri": "https://localhost:8080/"
        },
        "id": "MtzW5BGkLOQS",
        "outputId": "5eae2d36-9632-4ee1-8a40-ed1940171258"
      },
      "execution_count": 35,
      "outputs": [
        {
          "output_type": "execute_result",
          "data": {
            "text/plain": [
              "tuple"
            ]
          },
          "metadata": {},
          "execution_count": 35
        }
      ]
    },
    {
      "cell_type": "code",
      "source": [
        "def test5(*args) :\n",
        "  return list(args)"
      ],
      "metadata": {
        "id": "40QQeWm0LPTx"
      },
      "execution_count": 38,
      "outputs": []
    },
    {
      "cell_type": "code",
      "source": [
        "test5(\"mahendra\" , \"gharad\" , \"patil\" , 78787 ,87878)"
      ],
      "metadata": {
        "colab": {
          "base_uri": "https://localhost:8080/"
        },
        "id": "yRz48x_IPCnK",
        "outputId": "0b4e56ad-7a64-4218-b721-5849ba345b5b"
      },
      "execution_count": 39,
      "outputs": [
        {
          "output_type": "execute_result",
          "data": {
            "text/plain": [
              "['mahendra', 'gharad', 'patil', 78787, 87878]"
            ]
          },
          "metadata": {},
          "execution_count": 39
        }
      ]
    },
    {
      "cell_type": "code",
      "source": [
        "def new6(*maahi) :\n",
        "  return list(maahi) "
      ],
      "metadata": {
        "id": "XvZ12kV6PJzx"
      },
      "execution_count": 44,
      "outputs": []
    },
    {
      "cell_type": "markdown",
      "source": [
        "*  We can use any type of name or word as the argument"
      ],
      "metadata": {
        "id": "eZvjfqlXQwNA"
      }
    },
    {
      "cell_type": "code",
      "source": [
        "new6(\"mahendra\" ,\"gharad\" , \"patil\" , 6767 , 76767 )"
      ],
      "metadata": {
        "colab": {
          "base_uri": "https://localhost:8080/"
        },
        "id": "cSl46sV-P-gH",
        "outputId": "18e2fd3a-9d84-45ab-c699-69180da3aebb"
      },
      "execution_count": 45,
      "outputs": [
        {
          "output_type": "execute_result",
          "data": {
            "text/plain": [
              "['mahendra', 'gharad', 'patil', 6767, 76767]"
            ]
          },
          "metadata": {},
          "execution_count": 45
        }
      ]
    },
    {
      "cell_type": "markdown",
      "source": [
        "###**DICTIONARY**"
      ],
      "metadata": {
        "id": "apP4_UvxS7eW"
      }
    },
    {
      "cell_type": "code",
      "source": [
        "d = {}"
      ],
      "metadata": {
        "id": "Q20q_lA3QBBH"
      },
      "execution_count": 46,
      "outputs": []
    },
    {
      "cell_type": "code",
      "source": [
        "type(d)"
      ],
      "metadata": {
        "colab": {
          "base_uri": "https://localhost:8080/"
        },
        "id": "JgQobuvZTFFZ",
        "outputId": "ed097a31-449c-4bae-8d69-450774a67dfd"
      },
      "execution_count": 47,
      "outputs": [
        {
          "output_type": "execute_result",
          "data": {
            "text/plain": [
              "dict"
            ]
          },
          "metadata": {},
          "execution_count": 47
        }
      ]
    },
    {
      "cell_type": "code",
      "source": [
        "d2 = {2,2,3,33,3,232}"
      ],
      "metadata": {
        "id": "HlHErkNtTG2P"
      },
      "execution_count": 49,
      "outputs": []
    },
    {
      "cell_type": "code",
      "source": [
        "type(d2)"
      ],
      "metadata": {
        "colab": {
          "base_uri": "https://localhost:8080/"
        },
        "id": "nkF-qEfMTUeo",
        "outputId": "60119948-eb7a-40c7-ba11-0c51166cc170"
      },
      "execution_count": 50,
      "outputs": [
        {
          "output_type": "execute_result",
          "data": {
            "text/plain": [
              "set"
            ]
          },
          "metadata": {},
          "execution_count": 50
        }
      ]
    },
    {
      "cell_type": "markdown",
      "source": [
        "####  **How to create the dictionary**\n",
        "*  In the concept of dict we won't be able to see the concept of index numbers\n",
        "in the dictionary there is another concept is present called keys \n",
        "*  In the dict we have control to give name to the keys as per our requirements\n",
        "* We can use any type of value as the keys such as int , string , float , complex , boolean etc \n",
        "* Aslo we can use the tuples as the key \n",
        "* But we are not able to use the special char , list , set a key   "
      ],
      "metadata": {
        "id": "Hhyr_0SkT_uL"
      }
    },
    {
      "cell_type": "code",
      "source": [
        "d3 = {\"key1\" : \"mahendra\" , \"key2\" : 3434 , \"key3\" : 6+6j  }"
      ],
      "metadata": {
        "id": "49RHLB98TYuP"
      },
      "execution_count": 51,
      "outputs": []
    },
    {
      "cell_type": "code",
      "source": [
        "type(d3)"
      ],
      "metadata": {
        "colab": {
          "base_uri": "https://localhost:8080/"
        },
        "id": "jlyCx1BxUdD6",
        "outputId": "3c26151a-2d16-4af5-de13-b620e5bf63d0"
      },
      "execution_count": 52,
      "outputs": [
        {
          "output_type": "execute_result",
          "data": {
            "text/plain": [
              "dict"
            ]
          },
          "metadata": {},
          "execution_count": 52
        }
      ]
    },
    {
      "cell_type": "code",
      "source": [
        "d3"
      ],
      "metadata": {
        "colab": {
          "base_uri": "https://localhost:8080/"
        },
        "id": "jxg0U1MUUfrR",
        "outputId": "efe66f81-6609-4cbd-95f3-9cadd9da7199"
      },
      "execution_count": 55,
      "outputs": [
        {
          "output_type": "execute_result",
          "data": {
            "text/plain": [
              "{'key1': 'mahendra', 'key2': 3434, 'key3': (6+6j)}"
            ]
          },
          "metadata": {},
          "execution_count": 55
        }
      ]
    },
    {
      "cell_type": "code",
      "source": [
        "d4 = {[5,5,5] : \"mahendra\"}"
      ],
      "metadata": {
        "colab": {
          "base_uri": "https://localhost:8080/",
          "height": 165
        },
        "id": "k5xhYf0xUlOp",
        "outputId": "c38bd292-214f-4e85-ca34-1eb3af39fe7c"
      },
      "execution_count": 56,
      "outputs": [
        {
          "output_type": "error",
          "ename": "TypeError",
          "evalue": "ignored",
          "traceback": [
            "\u001b[0;31m---------------------------------------------------------------------------\u001b[0m",
            "\u001b[0;31mTypeError\u001b[0m                                 Traceback (most recent call last)",
            "\u001b[0;32m<ipython-input-56-5dfd4a8d723f>\u001b[0m in \u001b[0;36m<module>\u001b[0;34m\u001b[0m\n\u001b[0;32m----> 1\u001b[0;31m \u001b[0md4\u001b[0m \u001b[0;34m=\u001b[0m \u001b[0;34m{\u001b[0m\u001b[0;34m[\u001b[0m\u001b[0;36m5\u001b[0m\u001b[0;34m,\u001b[0m\u001b[0;36m5\u001b[0m\u001b[0;34m,\u001b[0m\u001b[0;36m5\u001b[0m\u001b[0;34m]\u001b[0m \u001b[0;34m:\u001b[0m \u001b[0;34m\"mahendra\"\u001b[0m\u001b[0;34m}\u001b[0m\u001b[0;34m\u001b[0m\u001b[0;34m\u001b[0m\u001b[0m\n\u001b[0m",
            "\u001b[0;31mTypeError\u001b[0m: unhashable type: 'list'"
          ]
        }
      ]
    },
    {
      "cell_type": "code",
      "source": [
        "d5 = { \"&key1\" : \"mahendra\"}"
      ],
      "metadata": {
        "id": "z0HgHMvtWdJn"
      },
      "execution_count": 58,
      "outputs": []
    },
    {
      "cell_type": "code",
      "source": [
        "d6 ={ \"&\" : \"mmmahendra\"}"
      ],
      "metadata": {
        "id": "7h2hSmJtWmNM"
      },
      "execution_count": 59,
      "outputs": []
    },
    {
      "cell_type": "code",
      "source": [
        "d7 = { & : \"mahendra\"}"
      ],
      "metadata": {
        "colab": {
          "base_uri": "https://localhost:8080/",
          "height": 130
        },
        "id": "ebb-fmlvWuep",
        "outputId": "27448ebe-2e95-4512-c36a-81a162c3fda5"
      },
      "execution_count": 60,
      "outputs": [
        {
          "output_type": "error",
          "ename": "SyntaxError",
          "evalue": "ignored",
          "traceback": [
            "\u001b[0;36m  File \u001b[0;32m\"<ipython-input-60-daaa2ab64b58>\"\u001b[0;36m, line \u001b[0;32m1\u001b[0m\n\u001b[0;31m    d7 = { & : \"mahendra\"}\u001b[0m\n\u001b[0m           ^\u001b[0m\n\u001b[0;31mSyntaxError\u001b[0m\u001b[0;31m:\u001b[0m invalid syntax\n"
          ]
        }
      ]
    },
    {
      "cell_type": "code",
      "source": [
        "d8 = { 676.23 : \"mahendra\"}"
      ],
      "metadata": {
        "id": "1UpGW-EnWyxY"
      },
      "execution_count": 61,
      "outputs": []
    },
    {
      "cell_type": "code",
      "source": [
        "d9 = { -78 : \"mahendra\"}"
      ],
      "metadata": {
        "id": "civg0RwNW20g"
      },
      "execution_count": 62,
      "outputs": []
    },
    {
      "cell_type": "code",
      "source": [
        "d10 = { 6+4j : \"mahendra\"}"
      ],
      "metadata": {
        "id": "UeBSnLczW8To"
      },
      "execution_count": 63,
      "outputs": []
    },
    {
      "cell_type": "code",
      "source": [
        "d11 = {{5,4,56} : \"mahendra\"}"
      ],
      "metadata": {
        "colab": {
          "base_uri": "https://localhost:8080/",
          "height": 165
        },
        "id": "5sQe28GsXCNY",
        "outputId": "e99d3794-f79f-4236-e93f-88eb232a62f6"
      },
      "execution_count": 64,
      "outputs": [
        {
          "output_type": "error",
          "ename": "TypeError",
          "evalue": "ignored",
          "traceback": [
            "\u001b[0;31m---------------------------------------------------------------------------\u001b[0m",
            "\u001b[0;31mTypeError\u001b[0m                                 Traceback (most recent call last)",
            "\u001b[0;32m<ipython-input-64-3e108ba04476>\u001b[0m in \u001b[0;36m<module>\u001b[0;34m\u001b[0m\n\u001b[0;32m----> 1\u001b[0;31m \u001b[0md11\u001b[0m \u001b[0;34m=\u001b[0m \u001b[0;34m{\u001b[0m\u001b[0;34m{\u001b[0m\u001b[0;36m5\u001b[0m\u001b[0;34m,\u001b[0m\u001b[0;36m4\u001b[0m\u001b[0;34m,\u001b[0m\u001b[0;36m56\u001b[0m\u001b[0;34m}\u001b[0m \u001b[0;34m:\u001b[0m \u001b[0;34m\"mahendra\"\u001b[0m\u001b[0;34m}\u001b[0m\u001b[0;34m\u001b[0m\u001b[0;34m\u001b[0m\u001b[0m\n\u001b[0m",
            "\u001b[0;31mTypeError\u001b[0m: unhashable type: 'set'"
          ]
        }
      ]
    },
    {
      "cell_type": "markdown",
      "source": [
        "**Dictionary will not contain \n",
        "duplicate keywords**\n",
        "\n",
        "*  If it does then the dict returns the updated value from the dict"
      ],
      "metadata": {
        "id": "tLQn7GVCaM4i"
      }
    },
    {
      "cell_type": "code",
      "source": [
        "d12 = {\"name \" : \"mahendra\" , \"fathername \" : \"santoshrao\" , \"sirname\" : \"patil\" , \"sirname \" : \"gharad\"}"
      ],
      "metadata": {
        "id": "bWZLxQX6XtCp"
      },
      "execution_count": 71,
      "outputs": []
    },
    {
      "cell_type": "code",
      "source": [
        "d12"
      ],
      "metadata": {
        "colab": {
          "base_uri": "https://localhost:8080/"
        },
        "id": "d9uTSBfyZkD_",
        "outputId": "c7b94167-c013-47aa-b9a4-6d991225e293"
      },
      "execution_count": 72,
      "outputs": [
        {
          "output_type": "execute_result",
          "data": {
            "text/plain": [
              "{'name ': 'mahendra',\n",
              " 'fathername ': 'santoshrao',\n",
              " 'sirname': 'patil',\n",
              " 'sirname ': 'gharad'}"
            ]
          },
          "metadata": {},
          "execution_count": 72
        }
      ]
    },
    {
      "cell_type": "code",
      "source": [
        "d12 = {\"name \" : \"mahendra\" , \"fathername \" : \"santoshrao\" , \"sirname\" : \"patil\" , \"sirname\" : \"gharad\"}"
      ],
      "metadata": {
        "id": "yMuLT56HZl4x"
      },
      "execution_count": 73,
      "outputs": []
    },
    {
      "cell_type": "code",
      "source": [
        "d12"
      ],
      "metadata": {
        "colab": {
          "base_uri": "https://localhost:8080/"
        },
        "id": "xs27YrinaFlR",
        "outputId": "e7c8ca85-9a44-4d91-ab02-e2fe4d58c8dd"
      },
      "execution_count": 74,
      "outputs": [
        {
          "output_type": "execute_result",
          "data": {
            "text/plain": [
              "{'name ': 'mahendra', 'fathername ': 'santoshrao', 'sirname': 'gharad'}"
            ]
          },
          "metadata": {},
          "execution_count": 74
        }
      ]
    },
    {
      "cell_type": "markdown",
      "source": [
        "**We can aslo create the dict inside the dict**"
      ],
      "metadata": {
        "id": "VJnbkN5PcA6c"
      }
    },
    {
      "cell_type": "code",
      "source": [
        "d13 = { \"key1\" : \"patil\"  , \"name\" : {\"names\"  : \"mahendra\" , \"sirname \" : \"gharad\" , \"brand\" : \"patil\"} , \"key2\" : \"IMS\"}"
      ],
      "metadata": {
        "id": "0FPb4-agaI1J"
      },
      "execution_count": 75,
      "outputs": []
    },
    {
      "cell_type": "markdown",
      "source": [
        "**How to extract the data from the dictionary**"
      ],
      "metadata": {
        "id": "aRkqKHejcTAr"
      }
    },
    {
      "cell_type": "code",
      "source": [
        "d14 = {\"name \" : \"mahendra\" , \"fathername \" : \"santoshrao\" , \"sirname\" : \"patil\" , \"sirname\" : \"gharad\"}\n"
      ],
      "metadata": {
        "id": "nT-AoWv0cAKA"
      },
      "execution_count": 77,
      "outputs": []
    },
    {
      "cell_type": "code",
      "source": [
        "d14[\"name \"]"
      ],
      "metadata": {
        "colab": {
          "base_uri": "https://localhost:8080/",
          "height": 36
        },
        "id": "YEPLFUMLdWvo",
        "outputId": "3ff8530b-4fd8-4aa4-b02e-cc2bf4fc94c2"
      },
      "execution_count": 78,
      "outputs": [
        {
          "output_type": "execute_result",
          "data": {
            "text/plain": [
              "'mahendra'"
            ],
            "application/vnd.google.colaboratory.intrinsic+json": {
              "type": "string"
            }
          },
          "metadata": {},
          "execution_count": 78
        }
      ]
    },
    {
      "cell_type": "markdown",
      "source": [
        "**how to extract the data from the dict which is present inside the dict**"
      ],
      "metadata": {
        "id": "fLHl-IuldpvE"
      }
    },
    {
      "cell_type": "code",
      "source": [
        "d13 = { \"key1\" : \"patil\"  , \"name\" : {\"names\"  : \"mahendra\" , \"sirname \" : \"gharad\" , \"brand\" : \"patil\"} , \"key2\" : \"IMS\"}"
      ],
      "metadata": {
        "id": "urkymQILddoX"
      },
      "execution_count": 84,
      "outputs": []
    },
    {
      "cell_type": "code",
      "source": [
        "d13[\"name\"]"
      ],
      "metadata": {
        "colab": {
          "base_uri": "https://localhost:8080/"
        },
        "id": "f1YsePzCd59J",
        "outputId": "8132d2fb-e6f5-49d7-efed-6f44a19dee7a"
      },
      "execution_count": 88,
      "outputs": [
        {
          "output_type": "execute_result",
          "data": {
            "text/plain": [
              "{'gharad', 'mahendra', 'patil'}"
            ]
          },
          "metadata": {},
          "execution_count": 88
        }
      ]
    },
    {
      "cell_type": "code",
      "source": [
        "d13[\"name\"][\"names\"]"
      ],
      "metadata": {
        "colab": {
          "base_uri": "https://localhost:8080/",
          "height": 165
        },
        "id": "fRdHuFwGd-p_",
        "outputId": "f9d57d48-9ecf-4e17-932d-1f9a22ffd5f1"
      },
      "execution_count": 89,
      "outputs": [
        {
          "output_type": "error",
          "ename": "TypeError",
          "evalue": "ignored",
          "traceback": [
            "\u001b[0;31m---------------------------------------------------------------------------\u001b[0m",
            "\u001b[0;31mTypeError\u001b[0m                                 Traceback (most recent call last)",
            "\u001b[0;32m<ipython-input-89-a7f6df5634be>\u001b[0m in \u001b[0;36m<module>\u001b[0;34m\u001b[0m\n\u001b[0;32m----> 1\u001b[0;31m \u001b[0md13\u001b[0m\u001b[0;34m[\u001b[0m\u001b[0;34m\"name\"\u001b[0m\u001b[0;34m]\u001b[0m\u001b[0;34m[\u001b[0m\u001b[0;34m\"names\"\u001b[0m\u001b[0;34m]\u001b[0m\u001b[0;34m\u001b[0m\u001b[0;34m\u001b[0m\u001b[0m\n\u001b[0m",
            "\u001b[0;31mTypeError\u001b[0m: 'set' object is not subscriptable"
          ]
        }
      ]
    },
    {
      "cell_type": "markdown",
      "source": [
        "**How to list down all the keys from the dictionary**"
      ],
      "metadata": {
        "id": "WzZwq-RUfl5_"
      }
    },
    {
      "cell_type": "code",
      "source": [
        "d13 = { \"key1\" : \"patil\"  , \"name\" : {\"names\"  : \"mahendra\" , \"sirname \" : \"gharad\" , \"brand\" : \"patil\"} , \"key2\" : \"IMS\"}"
      ],
      "metadata": {
        "id": "bFK-ekF4flSc"
      },
      "execution_count": 90,
      "outputs": []
    },
    {
      "cell_type": "code",
      "source": [
        "list(d13.keys())"
      ],
      "metadata": {
        "colab": {
          "base_uri": "https://localhost:8080/"
        },
        "id": "1btYLFKNeWIZ",
        "outputId": "5a7d8266-7503-4a4c-b0cc-aafee4de8eb9"
      },
      "execution_count": 92,
      "outputs": [
        {
          "output_type": "execute_result",
          "data": {
            "text/plain": [
              "['key1', 'name', 'key2']"
            ]
          },
          "metadata": {},
          "execution_count": 92
        }
      ]
    },
    {
      "cell_type": "code",
      "source": [
        "d13.values()"
      ],
      "metadata": {
        "colab": {
          "base_uri": "https://localhost:8080/"
        },
        "id": "MboDITikf4Tg",
        "outputId": "9aea8545-2551-4a93-a968-97f0561e14d4"
      },
      "execution_count": 93,
      "outputs": [
        {
          "output_type": "execute_result",
          "data": {
            "text/plain": [
              "dict_values(['patil', {'names': 'mahendra', 'sirname ': 'gharad', 'brand': 'patil'}, 'IMS'])"
            ]
          },
          "metadata": {},
          "execution_count": 93
        }
      ]
    },
    {
      "cell_type": "code",
      "source": [
        "d13.items()"
      ],
      "metadata": {
        "colab": {
          "base_uri": "https://localhost:8080/"
        },
        "id": "11Mtfz0xgcHA",
        "outputId": "8939a3ac-e235-4df2-ea3c-a240c271953e"
      },
      "execution_count": 94,
      "outputs": [
        {
          "output_type": "execute_result",
          "data": {
            "text/plain": [
              "dict_items([('key1', 'patil'), ('name', {'names': 'mahendra', 'sirname ': 'gharad', 'brand': 'patil'}), ('key2', 'IMS')])"
            ]
          },
          "metadata": {},
          "execution_count": 94
        }
      ]
    },
    {
      "cell_type": "markdown",
      "source": [
        "**Extracting the items from the dictionary which is presnt inside the dictionary**"
      ],
      "metadata": {
        "id": "wFpmB1X5ioHb"
      }
    },
    {
      "cell_type": "code",
      "source": [
        "d14 = { \"key1\" : \"patil\"  , \"name\" : {\"names\"  : \"mahendra\" , \"sirname \" : \"gharad\" , \"brand\" : \"patil\"} }"
      ],
      "metadata": {
        "id": "f6_s0BWzims5"
      },
      "execution_count": 95,
      "outputs": []
    },
    {
      "cell_type": "code",
      "source": [
        "d14[\"name\"]"
      ],
      "metadata": {
        "colab": {
          "base_uri": "https://localhost:8080/"
        },
        "id": "inxNkW-3gfEA",
        "outputId": "34f54462-9da5-4fda-d8e7-a9b408b358b3"
      },
      "execution_count": 96,
      "outputs": [
        {
          "output_type": "execute_result",
          "data": {
            "text/plain": [
              "{'names': 'mahendra', 'sirname ': 'gharad', 'brand': 'patil'}"
            ]
          },
          "metadata": {},
          "execution_count": 96
        }
      ]
    },
    {
      "cell_type": "code",
      "source": [
        "d14[\"name\"].values()"
      ],
      "metadata": {
        "colab": {
          "base_uri": "https://localhost:8080/"
        },
        "id": "XMq5Ge1djI4w",
        "outputId": "9bf2c0d1-79cf-40b3-eeaf-72e8c3bc43a9"
      },
      "execution_count": 106,
      "outputs": [
        {
          "output_type": "execute_result",
          "data": {
            "text/plain": [
              "dict_values(['mahendra', 'gharad', 'patil'])"
            ]
          },
          "metadata": {},
          "execution_count": 106
        }
      ]
    },
    {
      "cell_type": "code",
      "source": [
        "list((d14[\"name\"].values()))"
      ],
      "metadata": {
        "colab": {
          "base_uri": "https://localhost:8080/",
          "height": 165
        },
        "id": "EuxMhriLjMrY",
        "outputId": "83fbaeb2-2ea5-4c41-cc6e-af8e42fd4f7e"
      },
      "execution_count": 111,
      "outputs": [
        {
          "output_type": "error",
          "ename": "TypeError",
          "evalue": "ignored",
          "traceback": [
            "\u001b[0;31m---------------------------------------------------------------------------\u001b[0m",
            "\u001b[0;31mTypeError\u001b[0m                                 Traceback (most recent call last)",
            "\u001b[0;32m<ipython-input-111-4ac038af7f03>\u001b[0m in \u001b[0;36m<module>\u001b[0;34m\u001b[0m\n\u001b[0;32m----> 1\u001b[0;31m \u001b[0mlist\u001b[0m\u001b[0;34m(\u001b[0m\u001b[0;34m(\u001b[0m\u001b[0md14\u001b[0m\u001b[0;34m[\u001b[0m\u001b[0;34m\"name\"\u001b[0m\u001b[0;34m]\u001b[0m\u001b[0;34m.\u001b[0m\u001b[0mvalues\u001b[0m\u001b[0;34m(\u001b[0m\u001b[0;34m)\u001b[0m\u001b[0;34m)\u001b[0m\u001b[0;34m)\u001b[0m\u001b[0;34m\u001b[0m\u001b[0;34m\u001b[0m\u001b[0m\n\u001b[0m",
            "\u001b[0;31mTypeError\u001b[0m: 'dict_values' object is not callable"
          ]
        }
      ]
    },
    {
      "cell_type": "code",
      "source": [
        "d15 = { \"key1\" : \"patil\"  , \"name\" : {\"names\"  : \"mahendra\" , \"sirname \" : \"gharad\" , \"brand\" : \"patil\"} }"
      ],
      "metadata": {
        "id": "FDD3Gk5RmG4E"
      },
      "execution_count": null,
      "outputs": []
    },
    {
      "cell_type": "code",
      "source": [
        "d15.values()"
      ],
      "metadata": {
        "colab": {
          "base_uri": "https://localhost:8080/"
        },
        "id": "kJVt9rtwjXwH",
        "outputId": "a3279ea4-55d2-4896-c0c8-2cfde4d60cfa"
      },
      "execution_count": 130,
      "outputs": [
        {
          "output_type": "execute_result",
          "data": {
            "text/plain": [
              "dict_values(['patil', {'names': 'mahendra', 'sirname ': 'gharad', 'brand': 'patil'}])"
            ]
          },
          "metadata": {},
          "execution_count": 130
        }
      ]
    },
    {
      "cell_type": "code",
      "source": [
        "d15.items()"
      ],
      "metadata": {
        "colab": {
          "base_uri": "https://localhost:8080/"
        },
        "id": "pnxpO6rLj7BZ",
        "outputId": "4e7fa007-af8b-4116-a240-d21980d0337a"
      },
      "execution_count": 131,
      "outputs": [
        {
          "output_type": "execute_result",
          "data": {
            "text/plain": [
              "dict_items([('key1', 'patil'), ('name', {'names': 'mahendra', 'sirname ': 'gharad', 'brand': 'patil'})])"
            ]
          },
          "metadata": {},
          "execution_count": 131
        }
      ]
    },
    {
      "cell_type": "code",
      "source": [
        "d15.keys()"
      ],
      "metadata": {
        "colab": {
          "base_uri": "https://localhost:8080/"
        },
        "id": "6txIgy6Cx6Xq",
        "outputId": "49c6e15e-e7b3-4fd6-e992-99348d979fd0"
      },
      "execution_count": 132,
      "outputs": [
        {
          "output_type": "execute_result",
          "data": {
            "text/plain": [
              "dict_keys(['key1', 'name'])"
            ]
          },
          "metadata": {},
          "execution_count": 132
        }
      ]
    },
    {
      "cell_type": "code",
      "source": [
        "d15 = { \"key1\" : \"patil\"  , \"name\" : {\"names\"  : \"mahendra\" , \"sirname \" : \"gharad\" , \"brand\" : \"patil\"} }\n",
        "\n",
        "A = []\n",
        "for i in d15.keys() :\n",
        "  if type(d15[i]) == dict :\n",
        "    print(f\"this is the dict which is present inside the dictionary : \" , i)\n",
        "    \n",
        "    \n",
        "    A.append(d15[i].values())"
      ],
      "metadata": {
        "colab": {
          "base_uri": "https://localhost:8080/"
        },
        "id": "xV0GLEbqyzsA",
        "outputId": "edacf7c7-f546-4fbd-c768-a9e4b9ed77ae"
      },
      "execution_count": 149,
      "outputs": [
        {
          "output_type": "stream",
          "name": "stdout",
          "text": [
            "this is the dict which is present inside the dictionary :  name\n"
          ]
        }
      ]
    },
    {
      "cell_type": "code",
      "source": [
        "def dictionary() :    \n",
        "\n",
        "   A = list()\n",
        "   for i in d15.keys() :\n",
        "     if type(d15[i]) == dict :\n",
        "       print(f\"this is the dict which is present inside the dictionary : \" , i)\n",
        "       A.append(d15[i].values()) \n",
        "    return A \n"
      ],
      "metadata": {
        "colab": {
          "base_uri": "https://localhost:8080/",
          "height": 130
        },
        "id": "EYZuoSVVzUQZ",
        "outputId": "391a7749-90ae-4da7-ae99-0422daf8ec88"
      },
      "execution_count": 153,
      "outputs": [
        {
          "output_type": "error",
          "ename": "SyntaxError",
          "evalue": "ignored",
          "traceback": [
            "\u001b[0;36m  File \u001b[0;32m\"<ipython-input-153-a1f13adcd7c1>\"\u001b[0;36m, line \u001b[0;32m7\u001b[0m\n\u001b[0;31m    return A\u001b[0m\n\u001b[0m    ^\u001b[0m\n\u001b[0;31mSyntaxError\u001b[0m\u001b[0;31m:\u001b[0m 'return' outside function\n"
          ]
        }
      ]
    },
    {
      "cell_type": "markdown",
      "source": [
        "**Adding and replacing the new key inside the dict**"
      ],
      "metadata": {
        "id": "dBrAryfq4wCi"
      }
    },
    {
      "cell_type": "code",
      "source": [
        "d15"
      ],
      "metadata": {
        "colab": {
          "base_uri": "https://localhost:8080/"
        },
        "id": "IGYHsUFj0Y8p",
        "outputId": "d2ba37a9-d570-431a-cf33-0240c7a23474"
      },
      "execution_count": 154,
      "outputs": [
        {
          "output_type": "execute_result",
          "data": {
            "text/plain": [
              "{'key1': 'patil',\n",
              " 'name': {'names': 'mahendra', 'sirname ': 'gharad', 'brand': 'patil'}}"
            ]
          },
          "metadata": {},
          "execution_count": 154
        }
      ]
    },
    {
      "cell_type": "code",
      "source": [
        "d15[\"mobilephone\"] = (\"iphone\")"
      ],
      "metadata": {
        "id": "ZesJXSrW43PZ"
      },
      "execution_count": 155,
      "outputs": []
    },
    {
      "cell_type": "code",
      "source": [
        "d15"
      ],
      "metadata": {
        "colab": {
          "base_uri": "https://localhost:8080/"
        },
        "id": "0OudvgRV4-_p",
        "outputId": "2f3b469d-8453-4cd9-e6c9-e46281054b85"
      },
      "execution_count": 156,
      "outputs": [
        {
          "output_type": "execute_result",
          "data": {
            "text/plain": [
              "{'key1': 'patil',\n",
              " 'name': {'names': 'mahendra', 'sirname ': 'gharad', 'brand': 'patil'},\n",
              " 'mobilephone': 'iphone'}"
            ]
          },
          "metadata": {},
          "execution_count": 156
        }
      ]
    },
    {
      "cell_type": "code",
      "source": [
        "d15[\"key1\"] = \"rani\""
      ],
      "metadata": {
        "id": "YDt8_C5c5ATp"
      },
      "execution_count": 157,
      "outputs": []
    },
    {
      "cell_type": "code",
      "source": [
        "d15"
      ],
      "metadata": {
        "colab": {
          "base_uri": "https://localhost:8080/"
        },
        "id": "ueZIMOPm5_n3",
        "outputId": "04a62956-e385-427e-97c3-8f32ac536c9b"
      },
      "execution_count": 158,
      "outputs": [
        {
          "output_type": "execute_result",
          "data": {
            "text/plain": [
              "{'key1': 'rani',\n",
              " 'name': {'names': 'mahendra', 'sirname ': 'gharad', 'brand': 'patil'},\n",
              " 'mobilephone': 'iphone'}"
            ]
          },
          "metadata": {},
          "execution_count": 158
        }
      ]
    },
    {
      "cell_type": "code",
      "source": [
        "del d8"
      ],
      "metadata": {
        "id": "8noBne7n6Aqh"
      },
      "execution_count": 159,
      "outputs": []
    },
    {
      "cell_type": "code",
      "source": [
        "d8"
      ],
      "metadata": {
        "colab": {
          "base_uri": "https://localhost:8080/",
          "height": 165
        },
        "id": "jJcBiTv96HGx",
        "outputId": "befc64ce-be93-4469-a041-f1ae0aa37468"
      },
      "execution_count": 160,
      "outputs": [
        {
          "output_type": "error",
          "ename": "NameError",
          "evalue": "ignored",
          "traceback": [
            "\u001b[0;31m---------------------------------------------------------------------------\u001b[0m",
            "\u001b[0;31mNameError\u001b[0m                                 Traceback (most recent call last)",
            "\u001b[0;32m<ipython-input-160-30b5cb37428d>\u001b[0m in \u001b[0;36m<module>\u001b[0;34m\u001b[0m\n\u001b[0;32m----> 1\u001b[0;31m \u001b[0md8\u001b[0m\u001b[0;34m\u001b[0m\u001b[0;34m\u001b[0m\u001b[0m\n\u001b[0m",
            "\u001b[0;31mNameError\u001b[0m: name 'd8' is not defined"
          ]
        }
      ]
    },
    {
      "cell_type": "code",
      "source": [
        "del d15[\"key1\"]"
      ],
      "metadata": {
        "id": "eznE-6WC6IWR"
      },
      "execution_count": 161,
      "outputs": []
    },
    {
      "cell_type": "code",
      "source": [
        "d15"
      ],
      "metadata": {
        "colab": {
          "base_uri": "https://localhost:8080/"
        },
        "id": "vP0RQWAA6N5R",
        "outputId": "81b45d37-0ea1-4880-ed82-41f1f34f2f6d"
      },
      "execution_count": 162,
      "outputs": [
        {
          "output_type": "execute_result",
          "data": {
            "text/plain": [
              "{'name': {'names': 'mahendra', 'sirname ': 'gharad', 'brand': 'patil'},\n",
              " 'mobilephone': 'iphone'}"
            ]
          },
          "metadata": {},
          "execution_count": 162
        }
      ]
    },
    {
      "cell_type": "markdown",
      "source": [
        "###**Function part**\n",
        "\n",
        "*  '**' It takes the input as variable as well as value and give as in form of dict \n",
        "*   To understand it better see the following code\n",
        "*   When we use the double asteric we are not able to use the integer value as the key "
      ],
      "metadata": {
        "id": "B7nA592I-nbU"
      }
    },
    {
      "cell_type": "code",
      "source": [
        "def test10(**kwargs) :\n",
        "  return kwargs\n"
      ],
      "metadata": {
        "id": "X2NCt3Ms6PGB"
      },
      "execution_count": 163,
      "outputs": []
    },
    {
      "cell_type": "code",
      "source": [
        "test10(a = \"mahendra\" , b = \"gharad\" , c = \"patil\")"
      ],
      "metadata": {
        "colab": {
          "base_uri": "https://localhost:8080/"
        },
        "id": "X66lTxAo9ezx",
        "outputId": "086f912b-2978-44f4-c8bf-f808bb514ebd"
      },
      "execution_count": 165,
      "outputs": [
        {
          "output_type": "execute_result",
          "data": {
            "text/plain": [
              "{'a': 'mahendra', 'b': 'gharad', 'c': 'patil'}"
            ]
          },
          "metadata": {},
          "execution_count": 165
        }
      ]
    },
    {
      "cell_type": "markdown",
      "source": [
        "###**In python fuction called the first citizen becoz of this some reasons which is given below**\n",
        "\n",
        "*  We can create the function inside the function.\n",
        "*  We can return the function from the function.\n",
        "*  We also can create the object of the function and called from the anywhere.\n",
        "\n",
        "###**Creating the function inside the function**"
      ],
      "metadata": {
        "id": "YVbJTtaDAedB"
      }
    },
    {
      "cell_type": "code",
      "source": [
        "def test16(a) :\n",
        "  return a\n",
        "\n",
        "def test17() :\n",
        "  return (\"mahendra\")\n",
        "\n",
        "def test18(func) :\n",
        "  return func(\"mahendra\")"
      ],
      "metadata": {
        "id": "1L89YlPp9wtB"
      },
      "execution_count": 178,
      "outputs": []
    },
    {
      "cell_type": "code",
      "source": [
        "test18(test17)"
      ],
      "metadata": {
        "colab": {
          "base_uri": "https://localhost:8080/",
          "height": 36
        },
        "id": "-1AhGy56Clow",
        "outputId": "35eaca78-4ebd-452b-a9c5-76fefe24982a"
      },
      "execution_count": 175,
      "outputs": [
        {
          "output_type": "execute_result",
          "data": {
            "text/plain": [
              "'mahendra'"
            ],
            "application/vnd.google.colaboratory.intrinsic+json": {
              "type": "string"
            }
          },
          "metadata": {},
          "execution_count": 175
        }
      ]
    },
    {
      "cell_type": "code",
      "source": [
        "test18(test16)"
      ],
      "metadata": {
        "colab": {
          "base_uri": "https://localhost:8080/",
          "height": 36
        },
        "id": "VE6_VlcfCzJZ",
        "outputId": "f413d3b5-0d3a-4cbb-be3c-87cb3a171be1"
      },
      "execution_count": 170,
      "outputs": [
        {
          "output_type": "execute_result",
          "data": {
            "text/plain": [
              "'mahendra'"
            ],
            "application/vnd.google.colaboratory.intrinsic+json": {
              "type": "string"
            }
          },
          "metadata": {},
          "execution_count": 170
        }
      ]
    },
    {
      "cell_type": "code",
      "source": [
        "test18(test16)"
      ],
      "metadata": {
        "colab": {
          "base_uri": "https://localhost:8080/",
          "height": 36
        },
        "id": "nsa7M9wGDeiB",
        "outputId": "b10b3728-9aca-44ba-adb7-9c8b8c980847"
      },
      "execution_count": 176,
      "outputs": [
        {
          "output_type": "execute_result",
          "data": {
            "text/plain": [
              "'mahendra'"
            ],
            "application/vnd.google.colaboratory.intrinsic+json": {
              "type": "string"
            }
          },
          "metadata": {},
          "execution_count": 176
        }
      ]
    },
    {
      "cell_type": "code",
      "source": [
        "test18(test17)"
      ],
      "metadata": {
        "colab": {
          "base_uri": "https://localhost:8080/",
          "height": 252
        },
        "id": "udfHF0trEFYK",
        "outputId": "9f609f28-8ed5-46ad-c316-d8eb3478bde2"
      },
      "execution_count": 179,
      "outputs": [
        {
          "output_type": "error",
          "ename": "TypeError",
          "evalue": "ignored",
          "traceback": [
            "\u001b[0;31m---------------------------------------------------------------------------\u001b[0m",
            "\u001b[0;31mTypeError\u001b[0m                                 Traceback (most recent call last)",
            "\u001b[0;32m<ipython-input-179-e1107d42c70b>\u001b[0m in \u001b[0;36m<module>\u001b[0;34m\u001b[0m\n\u001b[0;32m----> 1\u001b[0;31m \u001b[0mtest18\u001b[0m\u001b[0;34m(\u001b[0m\u001b[0mtest17\u001b[0m\u001b[0;34m)\u001b[0m\u001b[0;34m\u001b[0m\u001b[0;34m\u001b[0m\u001b[0m\n\u001b[0m",
            "\u001b[0;32m<ipython-input-178-2eb979f57965>\u001b[0m in \u001b[0;36mtest18\u001b[0;34m(func)\u001b[0m\n\u001b[1;32m      6\u001b[0m \u001b[0;34m\u001b[0m\u001b[0m\n\u001b[1;32m      7\u001b[0m \u001b[0;32mdef\u001b[0m \u001b[0mtest18\u001b[0m\u001b[0;34m(\u001b[0m\u001b[0mfunc\u001b[0m\u001b[0;34m)\u001b[0m \u001b[0;34m:\u001b[0m\u001b[0;34m\u001b[0m\u001b[0;34m\u001b[0m\u001b[0m\n\u001b[0;32m----> 8\u001b[0;31m   \u001b[0;32mreturn\u001b[0m \u001b[0mfunc\u001b[0m\u001b[0;34m(\u001b[0m\u001b[0;34m\"mahendra\"\u001b[0m\u001b[0;34m)\u001b[0m\u001b[0;34m\u001b[0m\u001b[0;34m\u001b[0m\u001b[0m\n\u001b[0m",
            "\u001b[0;31mTypeError\u001b[0m: test17() takes 0 positional arguments but 1 was given"
          ]
        }
      ]
    },
    {
      "cell_type": "markdown",
      "source": [
        "**To solve the ebove error**"
      ],
      "metadata": {
        "id": "uPJM8GnBFDA6"
      }
    },
    {
      "cell_type": "code",
      "source": [
        "def test16(a) :\n",
        "  return a\n",
        "\n",
        "def test17(*args) :\n",
        "  return (\"mahendra\")\n",
        "\n",
        "def test18(func) :\n",
        "  return func(\"mahendra\")"
      ],
      "metadata": {
        "id": "2m1UB-oCEWbC"
      },
      "execution_count": 181,
      "outputs": []
    },
    {
      "cell_type": "code",
      "source": [
        "test18(test17)\n"
      ],
      "metadata": {
        "colab": {
          "base_uri": "https://localhost:8080/",
          "height": 36
        },
        "id": "fNcQsY2XFPtp",
        "outputId": "503946f7-b3cb-48ce-b282-bbb472b0c7a0"
      },
      "execution_count": 182,
      "outputs": [
        {
          "output_type": "execute_result",
          "data": {
            "text/plain": [
              "'mahendra'"
            ],
            "application/vnd.google.colaboratory.intrinsic+json": {
              "type": "string"
            }
          },
          "metadata": {},
          "execution_count": 182
        }
      ]
    },
    {
      "cell_type": "code",
      "source": [
        "def test19(a) :\n",
        "  print(\"this is return by test19 \")\n",
        "\n",
        "def test20() :\n",
        "  print(\"this is return by test 20 \")\n",
        "\n",
        "def test21():\n",
        "  print(\"this is my 21\")\n",
        "\n",
        "  if a == \"mahendra\" :\n",
        "       return test20() \n",
        "  elif a == \"gharad\" :\n",
        "        return test21()"
      ],
      "metadata": {
        "id": "pFHsNXCaFWYK"
      },
      "execution_count": 200,
      "outputs": []
    },
    {
      "cell_type": "code",
      "source": [
        "test19(\"gharad\")"
      ],
      "metadata": {
        "colab": {
          "base_uri": "https://localhost:8080/"
        },
        "id": "WSG5AXBIIDQ7",
        "outputId": "7492bd83-c9e0-4740-9283-310a089a7de1"
      },
      "execution_count": 195,
      "outputs": [
        {
          "output_type": "stream",
          "name": "stdout",
          "text": [
            "this is my 19 \n"
          ]
        }
      ]
    },
    {
      "cell_type": "code",
      "source": [
        "def test22(func) :\n",
        "  def test23() :\n",
        "    print(\"this is so irritating\")\n",
        "    func()\n",
        "  return test23()\n"
      ],
      "metadata": {
        "id": "lrNWDWSKIHQC"
      },
      "execution_count": 201,
      "outputs": []
    },
    {
      "cell_type": "code",
      "source": [
        "test23()"
      ],
      "metadata": {
        "colab": {
          "base_uri": "https://localhost:8080/",
          "height": 165
        },
        "id": "7yqsnmBKLX64",
        "outputId": "2bed6436-a27e-4090-de50-d8e7f662bb89"
      },
      "execution_count": 204,
      "outputs": [
        {
          "output_type": "error",
          "ename": "NameError",
          "evalue": "ignored",
          "traceback": [
            "\u001b[0;31m---------------------------------------------------------------------------\u001b[0m",
            "\u001b[0;31mNameError\u001b[0m                                 Traceback (most recent call last)",
            "\u001b[0;32m<ipython-input-204-b1cccd81ae46>\u001b[0m in \u001b[0;36m<module>\u001b[0;34m\u001b[0m\n\u001b[0;32m----> 1\u001b[0;31m \u001b[0mtest23\u001b[0m\u001b[0;34m(\u001b[0m\u001b[0;34m)\u001b[0m\u001b[0;34m\u001b[0m\u001b[0;34m\u001b[0m\u001b[0m\n\u001b[0m",
            "\u001b[0;31mNameError\u001b[0m: name 'test23' is not defined"
          ]
        }
      ]
    },
    {
      "cell_type": "markdown",
      "source": [
        "#####**VERY VERY IMPORTANT CONCEPT DECORATOR**\n",
        "\n",
        "*   Decorator is use to increase the reusability of the code\n",
        "*   Basically the decorator means accessesing the properties or code who someone created and by using that creating our own new function. "
      ],
      "metadata": {
        "id": "kNn2vVfgOpu1"
      }
    },
    {
      "cell_type": "code",
      "source": [
        "def test24() :\n",
        "  print(\"hellow hey\") "
      ],
      "metadata": {
        "id": "di97W8LxLb_h"
      },
      "execution_count": 205,
      "outputs": []
    },
    {
      "cell_type": "code",
      "source": [
        "test24()"
      ],
      "metadata": {
        "colab": {
          "base_uri": "https://localhost:8080/"
        },
        "id": "psCPJNdeQbRQ",
        "outputId": "39d79027-ca42-42d3-ce13-492ebe3949d4"
      },
      "execution_count": 206,
      "outputs": [
        {
          "output_type": "stream",
          "name": "stdout",
          "text": [
            "hellow hey\n"
          ]
        }
      ]
    },
    {
      "cell_type": "code",
      "source": [
        "import os \n",
        "def test22(func) :\n",
        "  def test23() :\n",
        "    print(\"i am inside the test22 and this will behave a decorator to any function which i am going to call \")\n",
        "    print(os.getcwd())\n",
        "    func()\n",
        "  return test23()\n"
      ],
      "metadata": {
        "id": "Fnavu7qzQdIS"
      },
      "execution_count": 213,
      "outputs": []
    },
    {
      "cell_type": "code",
      "source": [
        "test22(test24)"
      ],
      "metadata": {
        "colab": {
          "base_uri": "https://localhost:8080/"
        },
        "id": "uUJYxTmaRHRk",
        "outputId": "8102e4c1-3cef-4ef0-f674-5ebef7086a95"
      },
      "execution_count": 208,
      "outputs": [
        {
          "output_type": "stream",
          "name": "stdout",
          "text": [
            "i am inside the test22 and this will behave a decorator to any function which i am going to call \n",
            "hellow hey\n"
          ]
        }
      ]
    },
    {
      "cell_type": "markdown",
      "source": [
        "**We can aslo achieve the above output by using '@' symbol that is called py**\n",
        "\n"
      ],
      "metadata": {
        "id": "4IyHCJGDSBfE"
      }
    },
    {
      "cell_type": "code",
      "source": [
        "@test22 \n",
        "def test24() :\n",
        "  print(\"hellow hey\") "
      ],
      "metadata": {
        "colab": {
          "base_uri": "https://localhost:8080/"
        },
        "id": "x9NgnktvSA2p",
        "outputId": "9c4dcb8a-8481-4940-d446-8c71a319c5ae"
      },
      "execution_count": 214,
      "outputs": [
        {
          "output_type": "stream",
          "name": "stdout",
          "text": [
            "i am inside the test22 and this will behave a decorator to any function which i am going to call \n",
            "/content\n",
            "hellow hey\n"
          ]
        }
      ]
    },
    {
      "cell_type": "markdown",
      "source": [
        "**'@test22' is the decorator which have the ability to print the working directokry if we use this user created function with every program then it print the working directory each time as follow**"
      ],
      "metadata": {
        "id": "cy7PLe2NUwOi"
      }
    },
    {
      "cell_type": "code",
      "source": [
        "@test22\n",
        "def test25() :\n",
        "  print(\"this is the test25\")"
      ],
      "metadata": {
        "colab": {
          "base_uri": "https://localhost:8080/"
        },
        "id": "1uUT8y--RL4p",
        "outputId": "84c1dc6e-f1f6-4715-d54b-330bd1448f04"
      },
      "execution_count": 215,
      "outputs": [
        {
          "output_type": "stream",
          "name": "stdout",
          "text": [
            "i am inside the test22 and this will behave a decorator to any function which i am going to call \n",
            "/content\n",
            "this is the test25\n"
          ]
        }
      ]
    },
    {
      "cell_type": "markdown",
      "source": [
        "**Printing the execution time of the program**"
      ],
      "metadata": {
        "id": "egKwMjymWfpV"
      }
    },
    {
      "cell_type": "code",
      "source": [
        "import time \n",
        "def test25(func) :\n",
        "  def test26() :\n",
        "    print(\"hellow this function find the execution time of the program \")\n",
        "    start = time.time()\n",
        "    func()\n",
        "    print(func())\n",
        "    end = time.time()\n",
        "    print(start - end) \n",
        "  return test26"
      ],
      "metadata": {
        "id": "a8fXaJp0Wn-5"
      },
      "execution_count": 231,
      "outputs": []
    },
    {
      "cell_type": "code",
      "source": [
        "@test25\n",
        "def test27() :\n",
        "  l = [2,3,4,5,5,656,6]\n",
        "  l1 = []\n",
        "  for i in l :\n",
        "    l1.append(i)\n",
        "  return l1"
      ],
      "metadata": {
        "id": "ZB6ijZpsS_uy"
      },
      "execution_count": 232,
      "outputs": []
    },
    {
      "cell_type": "code",
      "source": [
        "test27()"
      ],
      "metadata": {
        "colab": {
          "base_uri": "https://localhost:8080/"
        },
        "id": "UwFsXAYTZhtH",
        "outputId": "4a574f83-1805-4d06-982a-dfb8b3f09a50"
      },
      "execution_count": 233,
      "outputs": [
        {
          "output_type": "stream",
          "name": "stdout",
          "text": [
            "hellow this function find the execution time of the program \n",
            "[2, 3, 4, 5, 5, 656, 6]\n",
            "-2.0265579223632812e-05\n"
          ]
        }
      ]
    },
    {
      "cell_type": "code",
      "source": [],
      "metadata": {
        "id": "G_95GnhRaoTo"
      },
      "execution_count": null,
      "outputs": []
    }
  ]
}